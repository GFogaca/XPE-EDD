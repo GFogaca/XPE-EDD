{
  "cells": [
    {
      "cell_type": "code",
      "execution_count": null,
      "metadata": {
        "colab": {
          "base_uri": "https://localhost:8080/"
        },
        "id": "SloRGbM9DQxi",
        "outputId": "7fc84145-2ce0-482d-813f-91cca3e75070"
      },
      "outputs": [],
      "source": [
        "! pip install pyspark"
      ]
    },
    {
      "cell_type": "code",
      "execution_count": null,
      "metadata": {
        "id": "v9BhcGOFA2Bw"
      },
      "outputs": [],
      "source": [
        "from google.colab import drive\n",
        "import os\n",
        "from pyspark.sql import SparkSession\n",
        "import pyspark.sql.functions as F"
      ]
    },
    {
      "cell_type": "code",
      "execution_count": null,
      "metadata": {
        "colab": {
          "base_uri": "https://localhost:8080/"
        },
        "id": "EG6_W8EjDc2-",
        "outputId": "6a72368b-87b7-40a3-f66e-7e20d24ab6b6"
      },
      "outputs": [],
      "source": [
        "drive.mount(\"/content/drive\")"
      ]
    },
    {
      "cell_type": "code",
      "execution_count": null,
      "metadata": {
        "colab": {
          "base_uri": "https://localhost:8080/"
        },
        "id": "IOivHRpnDc0j",
        "outputId": "eb7c8010-27df-4bc7-c14a-c9ca9a9ef8a1"
      },
      "outputs": [],
      "source": [
        "dir = \"/content/drive/MyDrive/xpe/data/viagens_federais\"\n",
        "\n",
        "list_files = os.listdir(dir)\n",
        "list_files"
      ]
    },
    {
      "cell_type": "code",
      "execution_count": null,
      "metadata": {
        "id": "78wC7iUuDcyU"
      },
      "outputs": [],
      "source": [
        "spark = SparkSession.builder.appName(\"aula.filetypes\").getOrCreate()"
      ]
    },
    {
      "cell_type": "code",
      "execution_count": null,
      "metadata": {
        "colab": {
          "base_uri": "https://localhost:8080/"
        },
        "id": "XCQf24xsDcvy",
        "outputId": "a308ff8b-e3af-4f4c-b158-9b770d1988b7"
      },
      "outputs": [],
      "source": [
        "file_name = \"2022_Passagem\"\n",
        "\n",
        "df = spark.read.csv(f\"{dir}/{file_name}.csv\", header=True, sep=\";\", encoding=\"ISO-8859-1\")\n",
        "df.head()"
      ]
    },
    {
      "cell_type": "code",
      "execution_count": null,
      "metadata": {
        "colab": {
          "base_uri": "https://localhost:8080/"
        },
        "id": "-DXQohZLDctR",
        "outputId": "f961933a-bf9f-4f8c-abc9-431a7ee1ddac"
      },
      "outputs": [],
      "source": [
        "df.printSchema()"
      ]
    },
    {
      "cell_type": "code",
      "execution_count": null,
      "metadata": {
        "colab": {
          "base_uri": "https://localhost:8080/"
        },
        "id": "wKOlyGT4E9-t",
        "outputId": "76d86d7a-9404-4aee-d16f-b6fa9b205332"
      },
      "outputs": [],
      "source": [
        "df.columns"
      ]
    },
    {
      "cell_type": "code",
      "execution_count": null,
      "metadata": {
        "colab": {
          "base_uri": "https://localhost:8080/"
        },
        "id": "I4hiEXkoDcoe",
        "outputId": "6c35298a-ea9e-4dcd-f452-27d5c18747f8"
      },
      "outputs": [],
      "source": [
        "df_tratado = df.select([F.col(x).alias(x.replace(\"-\",\"\").replace(\" \", \"_\").lower()) for x in df.columns])\n",
        "df_tratado.columns"
      ]
    },
    {
      "cell_type": "code",
      "execution_count": null,
      "metadata": {},
      "outputs": [],
      "source": [
        "df_tratado.show()"
      ]
    },
    {
      "cell_type": "code",
      "execution_count": null,
      "metadata": {
        "colab": {
          "base_uri": "https://localhost:8080/"
        },
        "id": "bX5Ql0zLFJIL",
        "outputId": "384f235e-fbcf-4cd8-fbad-ac3f105defe0"
      },
      "outputs": [],
      "source": [
        "df_tratado = df_tratado.withColumn(\"valor_da_passagem\", F.expr(\"cast(replace(valor_da_passagem, ',', '.') as float)\"))\\\n",
        "                        .withColumn(\"taxa_de_serviço\", F.expr(\"cast(replace(`taxa_de_serviço`, ',', '.') as float)\"))\n",
        "\n",
        "df_tratado.printSchema()"
      ]
    },
    {
      "cell_type": "code",
      "execution_count": null,
      "metadata": {
        "colab": {
          "base_uri": "https://localhost:8080/"
        },
        "id": "LxgMRx1HFJAb",
        "outputId": "e253d13d-c9aa-472a-e92e-ff874633babe"
      },
      "outputs": [],
      "source": [
        "df_tratado.show()"
      ]
    },
    {
      "cell_type": "code",
      "execution_count": null,
      "metadata": {
        "id": "0R43LbfsGLZx"
      },
      "outputs": [],
      "source": [
        "df_tratado.write.mode(\"overwrite\").parquet(f\"{dir}/{file_name}.parquet\")"
      ]
    },
    {
      "cell_type": "code",
      "execution_count": null,
      "metadata": {
        "colab": {
          "base_uri": "https://localhost:8080/"
        },
        "id": "E2LLOJtaGLWn",
        "outputId": "0b6e468c-1243-4023-ba63-5a375b059358"
      },
      "outputs": [],
      "source": [
        "os.listdir(dir)"
      ]
    },
    {
      "cell_type": "code",
      "execution_count": null,
      "metadata": {
        "colab": {
          "base_uri": "https://localhost:8080/"
        },
        "id": "Txw9PKjBGLUF",
        "outputId": "798a9ee4-a2ca-4b15-f17e-a679706d68d4"
      },
      "outputs": [],
      "source": [
        "print(\"Tamanho arquivo csv:\", os.path.getsize(f\"{dir}/{file_name}.csv\"), \"\\n\", \"Tamanho arquivo parquet:\", os.path.getsize(f\"{dir}/{file_name}.parquet\"))"
      ]
    },
    {
      "cell_type": "code",
      "execution_count": null,
      "metadata": {
        "colab": {
          "base_uri": "https://localhost:8080/"
        },
        "id": "jBS3pb8GHCvN",
        "outputId": "75f913aa-a5c0-4838-9613-efb1ffef64e3"
      },
      "outputs": [],
      "source": [
        "df_pqt = spark.read.parquet(f\"{dir}/{file_name}.parquet\")\n",
        "df_pqt.printSchema()"
      ]
    },
    {
      "cell_type": "code",
      "execution_count": null,
      "metadata": {
        "id": "Lr8bpHm4HPFj"
      },
      "outputs": [],
      "source": []
    }
  ],
  "metadata": {
    "colab": {
      "provenance": []
    },
    "kernelspec": {
      "display_name": "Python 3",
      "name": "python3"
    },
    "language_info": {
      "codemirror_mode": {
        "name": "ipython",
        "version": 3
      },
      "file_extension": ".py",
      "mimetype": "text/x-python",
      "name": "python",
      "nbconvert_exporter": "python",
      "pygments_lexer": "ipython3",
      "version": "3.11.9"
    }
  },
  "nbformat": 4,
  "nbformat_minor": 0
}
