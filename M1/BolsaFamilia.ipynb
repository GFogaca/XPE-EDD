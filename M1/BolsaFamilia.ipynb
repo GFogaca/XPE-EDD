{
  "cells": [
    {
      "cell_type": "code",
      "execution_count": null,
      "metadata": {},
      "outputs": [],
      "source": [
        "pip install requests"
      ]
    },
    {
      "cell_type": "code",
      "execution_count": null,
      "metadata": {
        "colab": {
          "base_uri": "https://localhost:8080/"
        },
        "id": "uNTEKJsHrkyo",
        "outputId": "1d39afaf-778f-423e-f6c7-fc6ab16a2bb7"
      },
      "outputs": [],
      "source": [
        "import requests\n",
        "import pandas as pd\n",
        "from zipfile import ZipFile\n",
        "from io import BytesIO"
      ]
    },
    {
      "cell_type": "markdown",
      "metadata": {},
      "source": [
        "# Criar a função para baixar e extrair os dados"
      ]
    },
    {
      "cell_type": "code",
      "execution_count": null,
      "metadata": {},
      "outputs": [],
      "source": [
        "def baixar_e_extrair_dados(url):\n",
        "\n",
        "    # Envia uma requisição para baixar o arquivo\n",
        "    response = requests.get(url)\n",
        "\n",
        "    # Checa se a requisição foi bem sucedida\n",
        "    if response.status_code == 200:\n",
        "\n",
        "        # Usa BytesIO para ler o arquivo ZIP da memória\n",
        "        arquivo_zip = ZipFile(BytesIO(response.content))\n",
        "\n",
        "        # Extraí os nomes dos arquivos dentro do ZIP\n",
        "        nomes_dos_arquivos = arquivo_zip.namelist()\n",
        "\n",
        "        # Assume que há apenas um arquivo CSV e o extrai\n",
        "        with arquivo_zip.open(nomes_dos_arquivos[0]) as arquivo_csv:\n",
        "\n",
        "            # Lê o CSV para um DataFrame\n",
        "            # Definir o tamanho do chunk\n",
        "            chunk_size = 50000  # Número de linhas a serem lidas por vez\n",
        "\n",
        "            # Criar um objeto iterável para ler em partes\n",
        "            # reader = pd.read_csv('caminho/para/seu/arquivo.csv', chunksize=chunk_size)\n",
        "            df = pd.read_csv(arquivo_csv, sep=';', encoding='ISO-8859-1')\n",
        "                \n",
        "            return df\n",
        "        \n",
        "    else:\n",
        "        print(\"Falha no download do arquivo: Status\", response.status_code)\n",
        "        return None"
      ]
    },
    {
      "cell_type": "markdown",
      "metadata": {},
      "source": [
        "# URL do arquivo em janeiro"
      ]
    },
    {
      "cell_type": "code",
      "execution_count": null,
      "metadata": {},
      "outputs": [],
      "source": [
        "url = 'https://portaldatransparencia.gov.br/download-de-dados/novo-bolsa-familia/202401'"
      ]
    },
    {
      "cell_type": "markdown",
      "metadata": {},
      "source": [
        "# Baixar, extrair e ler os dados - janeiro de 2024"
      ]
    },
    {
      "cell_type": "code",
      "execution_count": null,
      "metadata": {},
      "outputs": [],
      "source": [
        "dataframe = baixar_e_extrair_dados(url)"
      ]
    },
    {
      "cell_type": "markdown",
      "metadata": {},
      "source": [
        "# Verifica se o Dataframe carregou"
      ]
    },
    {
      "cell_type": "code",
      "execution_count": null,
      "metadata": {},
      "outputs": [],
      "source": [
        "if dataframe is not None:\n",
        "    print(\"Dados carregados com sucesso.\")\n",
        "else:\n",
        "    print(\"Nenhum dado foi carregado.\")"
      ]
    },
    {
      "cell_type": "markdown",
      "metadata": {},
      "source": [
        "# Mostra a Estrutura do DataFrame"
      ]
    },
    {
      "cell_type": "code",
      "execution_count": null,
      "metadata": {},
      "outputs": [],
      "source": [
        "dataframe"
      ]
    },
    {
      "cell_type": "code",
      "execution_count": null,
      "metadata": {},
      "outputs": [],
      "source": [
        "df_filtrado_municipio = dataframe[dataframe[\"NOME MUNICÍPIO\"] == \"WANDERLANDIA\"]\n",
        "df_filtrado_municipio"
      ]
    },
    {
      "cell_type": "markdown",
      "metadata": {},
      "source": [
        "# Tentativa errada (o campo está vindo com vírgula e não ponto)"
      ]
    },
    {
      "cell_type": "code",
      "execution_count": null,
      "metadata": {},
      "outputs": [],
      "source": [
        "soma_parcelas = df_filtrado_municipio[\"VALOR PARCELA\"].sum()\n",
        "soma_parcelas"
      ]
    },
    {
      "cell_type": "markdown",
      "metadata": {},
      "source": [
        "# Tentativa correta"
      ]
    },
    {
      "cell_type": "code",
      "execution_count": null,
      "metadata": {},
      "outputs": [],
      "source": [
        "soma_parcelas = df_filtrado_municipio['VALOR PARCELA'].str.replace(',', '.').astype(float)\n",
        "total = soma_parcelas.sum()\n",
        "total"
      ]
    },
    {
      "cell_type": "markdown",
      "metadata": {},
      "source": [
        "# # URL do arquivo em março de 2024"
      ]
    },
    {
      "cell_type": "code",
      "execution_count": null,
      "metadata": {},
      "outputs": [],
      "source": [
        "url = 'https://portaldatransparencia.gov.br/download-de-dados/novo-bolsa-familia/202403'"
      ]
    },
    {
      "cell_type": "markdown",
      "metadata": {},
      "source": [
        "# Baixar, extrair e ler os dados - março de 2024"
      ]
    },
    {
      "cell_type": "code",
      "execution_count": null,
      "metadata": {},
      "outputs": [],
      "source": [
        "dataframe = baixar_e_extrair_dados(url)"
      ]
    },
    {
      "cell_type": "markdown",
      "metadata": {},
      "source": [
        "# Mostra a Estrutura do DataFrame"
      ]
    },
    {
      "cell_type": "code",
      "execution_count": null,
      "metadata": {},
      "outputs": [],
      "source": [
        "dataframe"
      ]
    },
    {
      "cell_type": "markdown",
      "metadata": {},
      "source": [
        "# Filtra a coluna UF"
      ]
    },
    {
      "cell_type": "code",
      "execution_count": null,
      "metadata": {},
      "outputs": [],
      "source": [
        "df_filtrado_uf = dataframe[\"UF\"]\n",
        "df_filtrado_uf"
      ]
    },
    {
      "cell_type": "markdown",
      "metadata": {},
      "source": [
        "# Conta cada UF"
      ]
    },
    {
      "cell_type": "code",
      "execution_count": null,
      "metadata": {},
      "outputs": [],
      "source": [
        "frequencia_uf = df_filtrado_uf.value_counts()"
      ]
    },
    {
      "cell_type": "markdown",
      "metadata": {},
      "source": [
        "# Mostra o mais frequente"
      ]
    },
    {
      "cell_type": "code",
      "execution_count": null,
      "metadata": {},
      "outputs": [],
      "source": [
        "uf_mais_frequente = frequencia_uf.idxmax()\n",
        "uf_mais_frequente"
      ]
    }
  ],
  "metadata": {
    "colab": {
      "provenance": []
    },
    "kernelspec": {
      "display_name": "Python 3",
      "name": "python3"
    },
    "language_info": {
      "codemirror_mode": {
        "name": "ipython",
        "version": 3
      },
      "file_extension": ".py",
      "mimetype": "text/x-python",
      "name": "python",
      "nbconvert_exporter": "python",
      "pygments_lexer": "ipython3",
      "version": "3.12.0"
    }
  },
  "nbformat": 4,
  "nbformat_minor": 0
}
