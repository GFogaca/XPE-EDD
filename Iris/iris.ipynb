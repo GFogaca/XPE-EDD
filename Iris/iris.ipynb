{
 "cells": [
  {
   "cell_type": "markdown",
   "metadata": {},
   "source": [
    "# Instala as bibliotecas"
   ]
  },
  {
   "cell_type": "code",
   "execution_count": null,
   "metadata": {},
   "outputs": [],
   "source": [
    "! pip install seaborn\n",
    "! pip install matplotlib"
   ]
  },
  {
   "cell_type": "markdown",
   "metadata": {},
   "source": [
    "# Importa as bibliotecas"
   ]
  },
  {
   "cell_type": "code",
   "execution_count": null,
   "metadata": {},
   "outputs": [],
   "source": [
    "import pandas as pd\n",
    "import seaborn as sns \n",
    "import matplotlib.pyplot as plt"
   ]
  },
  {
   "cell_type": "markdown",
   "metadata": {},
   "source": [
    "# Lê o CSV\n",
    "# Imprime os top 5"
   ]
  },
  {
   "cell_type": "code",
   "execution_count": null,
   "metadata": {},
   "outputs": [],
   "source": [
    "df = pd.read_csv(\"Iris.csv\") \n",
    "df.head()"
   ]
  },
  {
   "cell_type": "markdown",
   "metadata": {},
   "source": [
    "# Exibe o formato da tabela"
   ]
  },
  {
   "cell_type": "code",
   "execution_count": null,
   "metadata": {},
   "outputs": [],
   "source": [
    "df.shape"
   ]
  },
  {
   "cell_type": "markdown",
   "metadata": {},
   "source": [
    "# Exibe as informações da tabela"
   ]
  },
  {
   "cell_type": "code",
   "execution_count": null,
   "metadata": {},
   "outputs": [],
   "source": [
    "df.info()"
   ]
  },
  {
   "cell_type": "markdown",
   "metadata": {},
   "source": [
    "# Descreve (análise descritiva) os dados"
   ]
  },
  {
   "cell_type": "code",
   "execution_count": null,
   "metadata": {},
   "outputs": [],
   "source": [
    "df.describe()"
   ]
  },
  {
   "cell_type": "markdown",
   "metadata": {},
   "source": [
    "# Verifica se há colunas nulas"
   ]
  },
  {
   "cell_type": "code",
   "execution_count": null,
   "metadata": {},
   "outputs": [],
   "source": [
    "df.isnull().sum()"
   ]
  },
  {
   "cell_type": "markdown",
   "metadata": {},
   "source": [
    "# Mostra as Espécie de Flores nos Dados (excluindo a coluna de espécies)"
   ]
  },
  {
   "cell_type": "code",
   "execution_count": null,
   "metadata": {},
   "outputs": [],
   "source": [
    "data = df.drop_duplicates(subset =\"Species\",) \n",
    "data.drop('Species', axis= 1, inplace= True)\n",
    "data"
   ]
  },
  {
   "cell_type": "markdown",
   "metadata": {},
   "source": [
    "# Conta o número de Flores por Espécie"
   ]
  },
  {
   "cell_type": "code",
   "execution_count": null,
   "metadata": {},
   "outputs": [],
   "source": [
    "df.value_counts(\"Species\")"
   ]
  },
  {
   "cell_type": "markdown",
   "metadata": {},
   "source": [
    "# Plota as Espécies por Quantidade"
   ]
  },
  {
   "cell_type": "code",
   "execution_count": null,
   "metadata": {},
   "outputs": [],
   "source": [
    "sns.countplot(x='Species', data=df, ) \n",
    "plt.show()"
   ]
  },
  {
   "cell_type": "markdown",
   "metadata": {},
   "source": [
    "# Plota as Espécies por Tamanho e Largura da Sépala"
   ]
  },
  {
   "cell_type": "code",
   "execution_count": null,
   "metadata": {},
   "outputs": [],
   "source": [
    "sns.scatterplot(x='SepalLengthCm', y='SepalWidthCm', \n",
    "\t\t\t\thue='Species', data=df, ) \n",
    "\n",
    "# Placing Legend outside the Figure \n",
    "plt.legend(bbox_to_anchor=(1, 1), loc=2) \n",
    "plt.show()\n"
   ]
  },
  {
   "cell_type": "markdown",
   "metadata": {},
   "source": [
    "# Plota as Espécies por Tamanho e Largura da Pétala"
   ]
  },
  {
   "cell_type": "code",
   "execution_count": null,
   "metadata": {},
   "outputs": [],
   "source": [
    "sns.scatterplot(x='PetalLengthCm', y='PetalWidthCm', \n",
    "\t\t\t\thue='Species', data=df, ) \n",
    "# Placing Legend outside the Figure \n",
    "plt.legend(bbox_to_anchor=(1, 1), loc=2) \n",
    "\n",
    "plt.show()\n"
   ]
  },
  {
   "cell_type": "markdown",
   "metadata": {},
   "source": [
    "# Mostra a análise estatística dos dados (sépala e pétala)"
   ]
  },
  {
   "cell_type": "code",
   "execution_count": null,
   "metadata": {},
   "outputs": [],
   "source": [
    "sns.pairplot(df.drop(['Id'], axis = 1), \n",
    "\t\t\thue='Species', height=2)\n"
   ]
  },
  {
   "cell_type": "markdown",
   "metadata": {},
   "source": [
    "# Distribuição normal da Sépala e da Pétala (histogramas)"
   ]
  },
  {
   "cell_type": "code",
   "execution_count": null,
   "metadata": {},
   "outputs": [],
   "source": [
    "fig, axes = plt.subplots(2, 2, figsize=(10,10)) \n",
    "\n",
    "axes[0,0].set_title(\"Sepal Length\") \n",
    "axes[0,0].hist(df['SepalLengthCm'], bins=7) \n",
    "\n",
    "axes[0,1].set_title(\"Sepal Width\") \n",
    "axes[0,1].hist(df['SepalWidthCm'], bins=5); \n",
    "\n",
    "axes[1,0].set_title(\"Petal Length\") \n",
    "axes[1,0].hist(df['PetalLengthCm'], bins=6); \n",
    "\n",
    "axes[1,1].set_title(\"Petal Width\") \n",
    "axes[1,1].hist(df['PetalWidthCm'], bins=6);\n"
   ]
  },
  {
   "cell_type": "markdown",
   "metadata": {},
   "source": [
    "# distribuição normal da Sépala e da Pétala (histogramas) "
   ]
  },
  {
   "cell_type": "code",
   "execution_count": null,
   "metadata": {},
   "outputs": [],
   "source": [
    "plot = sns.FacetGrid(df, hue=\"Species\") \n",
    "plot.map(sns.distplot, \"SepalLengthCm\").add_legend() \n",
    "\n",
    "plot = sns.FacetGrid(df, hue=\"Species\") \n",
    "plot.map(sns.distplot, \"SepalWidthCm\").add_legend() \n",
    "\n",
    "plot = sns.FacetGrid(df, hue=\"Species\") \n",
    "plot.map(sns.distplot, \"PetalLengthCm\").add_legend() \n",
    "\n",
    "plot = sns.FacetGrid(df, hue=\"Species\") \n",
    "plot.map(sns.distplot, \"PetalWidthCm\").add_legend() \n",
    "\n",
    "plt.show()"
   ]
  },
  {
   "cell_type": "markdown",
   "metadata": {},
   "source": [
    "# Mostra a correlação de pares de colunas"
   ]
  },
  {
   "cell_type": "code",
   "execution_count": null,
   "metadata": {},
   "outputs": [],
   "source": [
    "data.corr(method='pearson')"
   ]
  },
  {
   "cell_type": "markdown",
   "metadata": {},
   "source": [
    "# mostra o mapa de calor"
   ]
  },
  {
   "cell_type": "code",
   "execution_count": null,
   "metadata": {},
   "outputs": [],
   "source": [
    "sns.heatmap(data.corr(method='pearson').drop( \n",
    "['Id'], axis=1).drop(['Id'], axis=0), \n",
    "\t\t\tannot = True); \n",
    "\n",
    "plt.show()\n"
   ]
  },
  {
   "cell_type": "markdown",
   "metadata": {},
   "source": [
    "# Plotar os box-plot para identificarmos os outliers"
   ]
  },
  {
   "cell_type": "code",
   "execution_count": null,
   "metadata": {},
   "outputs": [],
   "source": [
    "\n",
    "def graph(y): \n",
    "\tsns.boxplot(x=\"Species\", y=y, data=df) \n",
    "\n",
    "plt.figure(figsize=(10,10)) \n",
    "\t\n",
    "# Adding the subplot at the specified grid position \n",
    "plt.subplot(221) \n",
    "graph('SepalLengthCm') \n",
    "\n",
    "plt.subplot(222) \n",
    "graph('SepalWidthCm') \n",
    "\n",
    "plt.subplot(223) \n",
    "graph('PetalLengthCm') \n",
    "\n",
    "plt.subplot(224) \n",
    "graph('PetalWidthCm') \n",
    "\n",
    "plt.show()\n"
   ]
  }
 ],
 "metadata": {
  "kernelspec": {
   "display_name": "Python 3",
   "language": "python",
   "name": "python3"
  },
  "language_info": {
   "codemirror_mode": {
    "name": "ipython",
    "version": 3
   },
   "file_extension": ".py",
   "mimetype": "text/x-python",
   "name": "python",
   "nbconvert_exporter": "python",
   "pygments_lexer": "ipython3",
   "version": "3.12.0"
  }
 },
 "nbformat": 4,
 "nbformat_minor": 2
}
